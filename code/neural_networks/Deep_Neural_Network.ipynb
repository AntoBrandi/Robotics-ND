{
 "cells": [
  {
   "cell_type": "markdown",
   "id": "165112c4",
   "metadata": {},
   "source": [
    "### Deep Neural Network in TensorFlow\n",
    "![title](deep.jpg)"
   ]
  },
  {
   "cell_type": "markdown",
   "id": "99571988",
   "metadata": {},
   "source": [
    "### Import the MNIST Dataset\n",
    "\n",
    "* Import the Dataset using Keras\n",
    "* Reshape the data\n",
    "* One-Hot Encoder on the labels"
   ]
  },
  {
   "cell_type": "code",
   "execution_count": 15,
   "id": "b2f6697c",
   "metadata": {},
   "outputs": [],
   "source": [
    "import tensorflow.compat.v1 as tf\n",
    "tf.disable_v2_behavior()\n",
    "import numpy as np\n",
    "import math\n",
    "\n",
    "# Import MNIST data\n",
    "# (x_train, y_train), (x_test, y_test)\n",
    "(train_features, train_labels), (test_features, test_labels) = tf.keras.datasets.mnist.load_data()\n",
    "\n",
    "\n",
    "n_input = 784  # MNIST data input (img shape: 28*28)\n",
    "n_classes = 10  # MNIST total classes (0-9 digits)\n",
    "                                                               # Dimensions\n",
    "train_features = train_features.astype('float32') / 255\n",
    "test_features = test_features.astype('float32') / 255\n",
    "train_labels = train_labels.astype('float32') / 255            \n",
    "test_labels = test_labels.astype('float32') / 255\n",
    "train_labels = tf.keras.utils.to_categorical(train_labels, 10) # 60000 * 10\n",
    "test_labels = tf.keras.utils.to_categorical(test_labels, 10)   # 10000 * 10\n",
    "\n",
    "\n",
    "def batches(batch_size, features, labels):\n",
    "    \"\"\"\n",
    "    Create batches of features and labels\n",
    "    :param batch_size: The batch size\n",
    "    :param features: List of features\n",
    "    :param labels: List of labels\n",
    "    :return: Batches of (Features, Labels)\n",
    "    \"\"\"\n",
    "    assert len(features) == len(labels)\n",
    "    outout_batches = []\n",
    "    out_features = []\n",
    "    out_labels = []\n",
    "    \n",
    "    sample_size = len(features)\n",
    "    for start_i in range(0, sample_size, batch_size):\n",
    "        end_i = start_i + batch_size\n",
    "        tmp_feat = features[start_i:end_i]\n",
    "        tmp_lab = labels[start_i:end_i]\n",
    "        batch = [tmp_feat, tmp_lab]\n",
    "        out_features.append(tmp_feat)\n",
    "        out_labels.append(tmp_lab)\n",
    "        outout_batches.append(batch)\n",
    "        \n",
    "    return outout_batches"
   ]
  },
  {
   "cell_type": "markdown",
   "id": "48840039",
   "metadata": {},
   "source": [
    "### Network Architecture"
   ]
  },
  {
   "cell_type": "code",
   "execution_count": 16,
   "id": "bdd98e5e",
   "metadata": {},
   "outputs": [],
   "source": [
    "# Parameters\n",
    "learning_rate = 0.001\n",
    "training_epochs = 20\n",
    "batch_size = 128  # Decrease batch size if you don't have enough memory\n",
    "display_step = 1\n",
    "n_hidden_layer = 256 # layer number of features\n",
    "\n",
    "# Store layers weight & bias\n",
    "weights = {\n",
    "    'hidden_layer': tf.Variable(tf.random_normal([n_input, n_hidden_layer])),\n",
    "    'out': tf.Variable(tf.random_normal([n_hidden_layer, n_classes]))\n",
    "}\n",
    "biases = {\n",
    "    'hidden_layer': tf.Variable(tf.random_normal([n_hidden_layer])),\n",
    "    'out': tf.Variable(tf.random_normal([n_classes]))\n",
    "}\n",
    "\n",
    "# tf Graph input\n",
    "x = tf.placeholder(\"float\", [None, 28, 28])\n",
    "y = tf.placeholder(\"float\", [None, n_classes])\n",
    "\n",
    "x_flat = tf.reshape(x, [-1, n_input])\n",
    "\n",
    "# Hidden layer with RELU activation\n",
    "layer_1 = tf.add(tf.matmul(x_flat, weights['hidden_layer']), biases['hidden_layer'])\n",
    "layer_1 = tf.nn.relu(layer_1)\n",
    "\n",
    "# Output layer with linear activation\n",
    "logits = tf.matmul(layer_1, weights['out']) + biases['out']"
   ]
  },
  {
   "cell_type": "markdown",
   "id": "ff17c9c8",
   "metadata": {},
   "source": [
    "### Cost Function and Optimizer"
   ]
  },
  {
   "cell_type": "code",
   "execution_count": 17,
   "id": "9a203d1a",
   "metadata": {},
   "outputs": [],
   "source": [
    "# Define loss and optimizer\n",
    "cost = tf.reduce_mean(tf.nn.softmax_cross_entropy_with_logits(logits=logits, labels=y))\n",
    "optimizer = tf.train.GradientDescentOptimizer(learning_rate=learning_rate).minimize(cost)"
   ]
  },
  {
   "cell_type": "markdown",
   "id": "d6cc5626",
   "metadata": {},
   "source": [
    "### Training "
   ]
  },
  {
   "cell_type": "code",
   "execution_count": 19,
   "id": "242ef8c2",
   "metadata": {},
   "outputs": [
    {
     "name": "stdout",
     "output_type": "stream",
     "text": [
      "Epoch: 0001 cost= 0.793775618\n",
      "Epoch: 0002 cost= 0.407656878\n",
      "Epoch: 0003 cost= 0.220782578\n",
      "Epoch: 0004 cost= 0.101185583\n",
      "Epoch: 0005 cost= 0.028011193\n",
      "Epoch: 0006 cost= 0.002310515\n",
      "Epoch: 0007 cost= 0.000174590\n",
      "Epoch: 0008 cost= 0.000022464\n",
      "Epoch: 0009 cost= 0.000003981\n",
      "Epoch: 0010 cost= 0.000000887\n",
      "Epoch: 0011 cost= 0.000000236\n",
      "Epoch: 0012 cost= 0.000000072\n",
      "Epoch: 0013 cost= 0.000000024\n",
      "Epoch: 0014 cost= 0.000000009\n",
      "Epoch: 0015 cost= 0.000000004\n",
      "Epoch: 0016 cost= 0.000000001\n",
      "Epoch: 0017 cost= 0.000000001\n",
      "Epoch: 0018 cost= 0.000000000\n",
      "Epoch: 0019 cost= 0.000000000\n",
      "Epoch: 0020 cost= 0.000000000\n",
      "Optimization Finished!\n",
      "Accuracy: 1.0\n"
     ]
    }
   ],
   "source": [
    "# Initializing the variables\n",
    "init = tf.global_variables_initializer()\n",
    "\n",
    "# Launch the graph\n",
    "with tf.Session() as sess:\n",
    "    sess.run(init)\n",
    "    # Training cycle\n",
    "    for epoch in range(training_epochs):\n",
    "        # Loop over all batches\n",
    "        for batch_features, batch_labels in batches(batch_size, train_features, train_labels):\n",
    "            sess.run(optimizer, feed_dict={x: batch_features, y: batch_labels})\n",
    "        # Display logs per epoch step\n",
    "        if epoch % display_step == 0:\n",
    "            c = sess.run(cost, feed_dict={x: batch_features, y: batch_labels})\n",
    "            print(\"Epoch:\", '%04d' % (epoch+1), \"cost=\", \\\n",
    "                \"{:.9f}\".format(c))\n",
    "    print(\"Optimization Finished!\")\n",
    "\n",
    "    # Test model\n",
    "    correct_prediction = tf.equal(tf.argmax(logits, 1), tf.argmax(y, 1))\n",
    "    # Calculate accuracy\n",
    "    accuracy = tf.reduce_mean(tf.cast(correct_prediction, \"float\"))\n",
    "    # Decrease test_size if you don't have enough memory\n",
    "    test_size = 256\n",
    "    print(\"Accuracy:\", accuracy.eval({x: test_features[:test_size], y: test_labels[:test_size]}))"
   ]
  }
 ],
 "metadata": {
  "kernelspec": {
   "display_name": "Python 3",
   "language": "python",
   "name": "python3"
  },
  "language_info": {
   "codemirror_mode": {
    "name": "ipython",
    "version": 3
   },
   "file_extension": ".py",
   "mimetype": "text/x-python",
   "name": "python",
   "nbconvert_exporter": "python",
   "pygments_lexer": "ipython3",
   "version": "3.8.8"
  }
 },
 "nbformat": 4,
 "nbformat_minor": 5
}
