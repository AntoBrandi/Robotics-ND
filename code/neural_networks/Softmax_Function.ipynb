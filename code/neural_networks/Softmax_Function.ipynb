{
 "cells": [
  {
   "cell_type": "markdown",
   "metadata": {},
   "source": [
    "### Softmax Activation Function\n",
    "Implementation of the Softmax Activation Function to be in the Nucleus of the Perceptron for solving problems of multiple classification\n",
    "\n",
    "![title](softmax.jpg)\n",
    "\n",
    "![title](softmax_1.jpg)"
   ]
  },
  {
   "cell_type": "code",
   "execution_count": 16,
   "metadata": {},
   "outputs": [],
   "source": [
    "import numpy as np\n",
    "\n",
    "\n",
    "def softmax(z):\n",
    "    \"\"\"\n",
    "    Compute softmax values for each sets of scores in z.\n",
    "    Consider z as a b-dimensional array\n",
    "    \"\"\"\n",
    "    return np.exp(z) / np.sum(np.exp(z), axis=0)       "
   ]
  },
  {
   "cell_type": "markdown",
   "metadata": {},
   "source": [
    "### Test the Algorithm"
   ]
  },
  {
   "cell_type": "code",
   "execution_count": 18,
   "metadata": {},
   "outputs": [
    {
     "name": "stdout",
     "output_type": "stream",
     "text": [
      "[0.66524096 0.09003057 0.24472847]\n"
     ]
    }
   ],
   "source": [
    "logits = [3.0, 1.0, 2.0]\n",
    "\n",
    "print(softmax(logits))"
   ]
  }
 ],
 "metadata": {
  "kernelspec": {
   "display_name": "Python 3",
   "language": "python",
   "name": "python3"
  },
  "language_info": {
   "codemirror_mode": {
    "name": "ipython",
    "version": 3
   },
   "file_extension": ".py",
   "mimetype": "text/x-python",
   "name": "python",
   "nbconvert_exporter": "python",
   "pygments_lexer": "ipython3",
   "version": "3.8.5"
  }
 },
 "nbformat": 4,
 "nbformat_minor": 4
}
