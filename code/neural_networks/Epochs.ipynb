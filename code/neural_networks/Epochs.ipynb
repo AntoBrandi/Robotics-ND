{
 "cells": [
  {
   "cell_type": "markdown",
   "id": "fc3c0d1a",
   "metadata": {},
   "source": [
    "### Epochs\n",
    "Increase the accuracy of the model without requiring more data but requiring more iterations"
   ]
  },
  {
   "cell_type": "code",
   "execution_count": 17,
   "id": "7852422e",
   "metadata": {},
   "outputs": [],
   "source": [
    "import tensorflow.compat.v1 as tf\n",
    "tf.disable_v2_behavior()\n",
    "import numpy as np\n",
    "\n",
    "\n",
    "def print_epoch_stats(epoch_i, sess, last_features, last_labels):\n",
    "    \"\"\"\n",
    "    Print cost and validation accuracy of an epoch\n",
    "    \"\"\"\n",
    "    current_cost = sess.run(cost, feed_dict={features: last_features, labels: last_labels})\n",
    "    valid_accuracy = sess.run(accuracy, feed_dict={features: test_features, labels: test_labels})\n",
    "    print('Epoch: {:<4} - Cost: {:<8.3} Valid Accuracy: {:<5.3}'.format(epoch_i, current_cost, valid_accuracy))"
   ]
  },
  {
   "cell_type": "markdown",
   "id": "0dd7fc50",
   "metadata": {},
   "source": [
    "### Batching"
   ]
  },
  {
   "cell_type": "code",
   "execution_count": 18,
   "id": "fd99acbc",
   "metadata": {},
   "outputs": [],
   "source": [
    "import math\n",
    "def batches(batch_size, features, labels):\n",
    "    \"\"\"\n",
    "    Create batches of features and labels\n",
    "    :param batch_size: The batch size\n",
    "    :param features: List of features\n",
    "    :param labels: List of labels\n",
    "    :return: Batches of (Features, Labels)\n",
    "    \"\"\"\n",
    "    assert len(features) == len(labels)\n",
    "    outout_batches = []\n",
    "    out_features = []\n",
    "    out_labels = []\n",
    "    \n",
    "    sample_size = len(features)\n",
    "    for start_i in range(0, sample_size, batch_size):\n",
    "        end_i = start_i + batch_size\n",
    "        batch = [features[start_i:end_i], labels[start_i:end_i]]\n",
    "        outout_batches.append(batch)\n",
    "        \n",
    "    return outout_batches"
   ]
  },
  {
   "cell_type": "markdown",
   "id": "41f05c38",
   "metadata": {},
   "source": [
    "### Import and elaborate the MINST Dataset"
   ]
  },
  {
   "cell_type": "code",
   "execution_count": 19,
   "id": "e5c92ab0",
   "metadata": {},
   "outputs": [],
   "source": [
    "# Import MNIST data\n",
    "# (x_train, y_train), (x_test, y_test)\n",
    "(train_features, train_labels), (test_features, test_labels) = tf.keras.datasets.mnist.load_data()\n",
    "\n",
    "\n",
    "n_input = 784  # MNIST data input (img shape: 28*28)\n",
    "n_classes = 10  # MNIST total classes (0-9 digits)\n",
    "learning_rate = 0.001\n",
    "                                                               # Dimensions\n",
    "train_features = train_features.reshape((60000, 28 * 28))      # 60000 * 784\n",
    "test_features = test_features.reshape((10000, 28 * 28))        # 10000 * 784\n",
    "train_features = train_features.astype('float32') / 255\n",
    "test_features = test_features.astype('float32') / 255\n",
    "train_labels = train_labels.astype('float32') / 255            \n",
    "test_labels = test_labels.astype('float32') / 255\n",
    "train_labels = tf.keras.utils.to_categorical(train_labels, 10) # 60000 * 10\n",
    "test_labels = tf.keras.utils.to_categorical(test_labels, 10)   # 10000 * 10\n",
    "\n",
    "\n",
    "# Features and Labels\n",
    "features = tf.placeholder(tf.float32, [None, n_input])         # x * 784\n",
    "labels = tf.placeholder(tf.float32, [None, n_classes])         # x * 10\n",
    "\n",
    "# Weights & bias\n",
    "weights = tf.Variable(tf.random_normal([n_input, n_classes]))  # 784 * 10\n",
    "bias = tf.Variable(tf.random_normal([n_classes]))              # 10 * 1\n",
    "\n",
    "# Logits - Wx + b\n",
    "logits = tf.add(tf.matmul(features, weights), bias)            # x * 10\n",
    "\n",
    "\n",
    "# Define loss and optimizer\n",
    "cost = tf.reduce_mean(tf.nn.softmax_cross_entropy_with_logits(logits=logits, labels=labels))\n",
    "optimizer = tf.train.GradientDescentOptimizer(learning_rate=0.001).minimize(cost)\n",
    "\n",
    "# Calculate accuracy\n",
    "correct_prediction = tf.equal(tf.argmax(logits, 1), tf.argmax(labels, 1))\n",
    "accuracy = tf.reduce_mean(tf.cast(correct_prediction, tf.float32))"
   ]
  },
  {
   "cell_type": "code",
   "execution_count": 20,
   "id": "1bab2187",
   "metadata": {},
   "outputs": [
    {
     "name": "stdout",
     "output_type": "stream",
     "text": [
      "Epoch: 0    - Cost: 4.62     Valid Accuracy: 0.481\n",
      "Epoch: 1    - Cost: 1.85     Valid Accuracy: 0.785\n",
      "Epoch: 2    - Cost: 1.02     Valid Accuracy: 0.88 \n",
      "Epoch: 3    - Cost: 0.671    Valid Accuracy: 0.921\n",
      "Epoch: 4    - Cost: 0.5      Valid Accuracy: 0.943\n",
      "Epoch: 5    - Cost: 0.397    Valid Accuracy: 0.954\n",
      "Epoch: 6    - Cost: 0.328    Valid Accuracy: 0.963\n",
      "Epoch: 7    - Cost: 0.279    Valid Accuracy: 0.969\n",
      "Epoch: 8    - Cost: 0.241    Valid Accuracy: 0.973\n",
      "Epoch: 9    - Cost: 0.213    Valid Accuracy: 0.975\n",
      "Test Accuracy: 0.9754999876022339\n"
     ]
    }
   ],
   "source": [
    "init = tf.global_variables_initializer()\n",
    "\n",
    "batch_size = 128\n",
    "epochs = 10\n",
    "\n",
    "with tf.Session() as sess:\n",
    "    sess.run(init)\n",
    "\n",
    "    # Training cycle\n",
    "    for epoch_i in range(epochs):\n",
    "\n",
    "        # Loop over all batches\n",
    "        for batch_features, batch_labels in batches(batch_size, train_features, train_labels):\n",
    "            sess.run(optimizer, feed_dict={features: batch_features, labels: batch_labels})\n",
    "\n",
    "        # Print cost and validation accuracy of an epoch\n",
    "        print_epoch_stats(epoch_i, sess, batch_features, batch_labels)\n",
    "\n",
    "    # Calculate accuracy for test dataset\n",
    "    test_accuracy = sess.run(accuracy, feed_dict={features: test_features, labels: test_labels})\n",
    "\n",
    "print('Test Accuracy: {}'.format(test_accuracy))"
   ]
  }
 ],
 "metadata": {
  "kernelspec": {
   "display_name": "Python 3",
   "language": "python",
   "name": "python3"
  },
  "language_info": {
   "codemirror_mode": {
    "name": "ipython",
    "version": 3
   },
   "file_extension": ".py",
   "mimetype": "text/x-python",
   "name": "python",
   "nbconvert_exporter": "python",
   "pygments_lexer": "ipython3",
   "version": "3.8.8"
  }
 },
 "nbformat": 4,
 "nbformat_minor": 5
}
