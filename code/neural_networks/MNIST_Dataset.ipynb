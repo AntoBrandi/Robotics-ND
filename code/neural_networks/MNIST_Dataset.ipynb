{
 "cells": [
  {
   "cell_type": "markdown",
   "id": "45cc21ea",
   "metadata": {},
   "source": [
    "### Mini-Batching Example\n",
    "The minibatching is useful when the dataset is too large.\n",
    "\n",
    "This method consists in taking at random a reduced number of the initial dataset and using this for training the algorithm"
   ]
  },
  {
   "cell_type": "code",
   "execution_count": 10,
   "id": "4dcae5bf",
   "metadata": {},
   "outputs": [],
   "source": [
    "import math\n",
    "def batches(batch_size, features, labels):\n",
    "    \"\"\"\n",
    "    Create batches of features and labels\n",
    "    :param batch_size: The batch size\n",
    "    :param features: List of features\n",
    "    :param labels: List of labels\n",
    "    :return: Batches of (Features, Labels)\n",
    "    \"\"\"\n",
    "    assert len(features) == len(labels)\n",
    "    outout_batches = []\n",
    "    out_features = []\n",
    "    out_labels = []\n",
    "    \n",
    "    sample_size = len(features)\n",
    "    for start_i in range(0, sample_size, batch_size):\n",
    "        end_i = start_i + batch_size\n",
    "        tmp_feat = features[start_i:end_i]\n",
    "        tmp_lab = labels[start_i:end_i]\n",
    "        batch = [tmp_feat, tmp_lab]\n",
    "        out_features.append(tmp_feat)\n",
    "        out_labels.append(tmp_lab)\n",
    "        outout_batches.append(batch)\n",
    "        \n",
    "    return outout_batches"
   ]
  },
  {
   "cell_type": "code",
   "execution_count": 11,
   "id": "9b78aded",
   "metadata": {},
   "outputs": [
    {
     "name": "stdout",
     "output_type": "stream",
     "text": [
      "[[[['F11', 'F12', 'F13', 'F14'],\n",
      "   ['F21', 'F22', 'F23', 'F24'],\n",
      "   ['F31', 'F32', 'F33', 'F34'],\n",
      "   ['F41', 'F42', 'F43', 'F44'],\n",
      "   ['F51', 'F52', 'F53', 'F54']],\n",
      "  [['L11', 'L12'],\n",
      "   ['L21', 'L22'],\n",
      "   ['L31', 'L32'],\n",
      "   ['L41', 'L42'],\n",
      "   ['L51', 'L52']]],\n",
      " [[['F61', 'F62', 'F63', 'F64'],\n",
      "   ['F71', 'F72', 'F73', 'F74'],\n",
      "   ['F81', 'F82', 'F83', 'F84']],\n",
      "  [['L61', 'L62'], ['L71', 'L72'], ['L81', 'L82']]]]\n"
     ]
    }
   ],
   "source": [
    "from pprint import pprint\n",
    "\n",
    "# 4 Samples of features\n",
    "example_features = [\n",
    "    ['F11','F12','F13','F14'],\n",
    "    ['F21','F22','F23','F24'],\n",
    "    ['F31','F32','F33','F34'],\n",
    "    ['F41','F42','F43','F44'],\n",
    "    ['F51','F52','F53','F54'],\n",
    "    ['F61','F62','F63','F64'],\n",
    "    ['F71','F72','F73','F74'],\n",
    "    ['F81','F82','F83','F84']]\n",
    "# 4 Samples of labels\n",
    "example_labels = [\n",
    "    ['L11','L12'],\n",
    "    ['L21','L22'],\n",
    "    ['L31','L32'],\n",
    "    ['L41','L42'],\n",
    "    ['L51','L52'],\n",
    "    ['L61','L62'],\n",
    "    ['L71','L72'],\n",
    "    ['L81','L82']]\n",
    "\n",
    "# PPrint prints data structures like 2d arrays, so they are easier to read\n",
    "pprint(batches(5, example_features, example_labels))"
   ]
  },
  {
   "cell_type": "markdown",
   "id": "7142f170",
   "metadata": {},
   "source": [
    "### MNIST Dataset\n",
    "\n",
    "Training using the MNIST dataset that cointains a list of handwitten numbers"
   ]
  },
  {
   "cell_type": "code",
   "execution_count": 12,
   "id": "621c5908",
   "metadata": {},
   "outputs": [],
   "source": [
    "import tensorflow.compat.v1 as tf\n",
    "tf.disable_v2_behavior()\n",
    "\n",
    "# Import MNIST data\n",
    "# (x_train, y_train), (x_test, y_test)\n",
    "(train_features, train_labels), (test_features, test_labels) = tf.keras.datasets.mnist.load_data()\n"
   ]
  },
  {
   "cell_type": "markdown",
   "id": "446cf03d",
   "metadata": {},
   "source": [
    "### Train the Model on a Mini-Batch"
   ]
  },
  {
   "cell_type": "code",
   "execution_count": 13,
   "id": "d673358a",
   "metadata": {},
   "outputs": [],
   "source": [
    "import numpy as np\n",
    "\n",
    "n_input = 784  # MNIST data input (img shape: 28*28)\n",
    "n_classes = 10  # MNIST total classes (0-9 digits)\n",
    "learning_rate = 0.001\n",
    "                                                               # Dimensions\n",
    "train_features = train_features.reshape((60000, 28 * 28))      # 60000 * 784\n",
    "test_features = test_features.reshape((10000, 28 * 28))        # 10000 * 784\n",
    "train_features = train_features.astype('float32') / 255\n",
    "test_features = test_features.astype('float32') / 255\n",
    "train_labels = train_labels.astype('float32') / 255            \n",
    "test_labels = test_labels.astype('float32') / 255\n",
    "train_labels = tf.keras.utils.to_categorical(train_labels, 10) # 60000 * 10\n",
    "test_labels = tf.keras.utils.to_categorical(test_labels, 10)   # 10000 * 10\n",
    "\n",
    "\n",
    "# Features and Labels\n",
    "features = tf.placeholder(tf.float32, [None, n_input])         # x * 784\n",
    "labels = tf.placeholder(tf.float32, [None, n_classes])         # x * 10\n",
    "\n",
    "# Weights & bias\n",
    "weights = tf.Variable(tf.random_normal([n_input, n_classes]))  # 784 * 10\n",
    "bias = tf.Variable(tf.random_normal([n_classes]))              # 10 * 1\n",
    "\n",
    "# Logits - Wx + b\n",
    "logits = tf.add(tf.matmul(features, weights), bias)            # x * 10\n",
    "\n",
    "\n",
    "# Define loss and optimizer\n",
    "cost = tf.reduce_mean(tf.nn.softmax_cross_entropy_with_logits(logits=logits, labels=labels))\n",
    "optimizer = tf.train.GradientDescentOptimizer(learning_rate=learning_rate).minimize(cost)\n",
    "\n",
    "# Calculate accuracy\n",
    "correct_prediction = tf.equal(tf.argmax(logits, 1), tf.argmax(labels, 1))\n",
    "accuracy = tf.reduce_mean(tf.cast(correct_prediction, tf.float32))\n"
   ]
  },
  {
   "cell_type": "code",
   "execution_count": 15,
   "id": "9b55051c",
   "metadata": {},
   "outputs": [
    {
     "name": "stdout",
     "output_type": "stream",
     "text": [
      "Test Accuracy: 0.6578999757766724\n"
     ]
    }
   ],
   "source": [
    "batch_size = 128\n",
    "\n",
    "init = tf.global_variables_initializer()\n",
    "\n",
    "with tf.Session() as sess:\n",
    "    sess.run(init)\n",
    "    \n",
    "    for batch_features, batch_labels in batches(batch_size, train_features, train_labels):\n",
    "        sess.run(optimizer, feed_dict={features: batch_features, labels: batch_labels})\n",
    "    \n",
    "    # Calculate accuracy for test dataset\n",
    "    test_accuracy = sess.run(accuracy, feed_dict={features: test_features, labels: test_labels})\n",
    "    \n",
    "print('Test Accuracy: {}'.format(test_accuracy))"
   ]
  },
  {
   "cell_type": "code",
   "execution_count": null,
   "id": "5e7876ff",
   "metadata": {},
   "outputs": [],
   "source": []
  }
 ],
 "metadata": {
  "kernelspec": {
   "display_name": "Python 3",
   "language": "python",
   "name": "python3"
  },
  "language_info": {
   "codemirror_mode": {
    "name": "ipython",
    "version": 3
   },
   "file_extension": ".py",
   "mimetype": "text/x-python",
   "name": "python",
   "nbconvert_exporter": "python",
   "pygments_lexer": "ipython3",
   "version": "3.8.8"
  }
 },
 "nbformat": 4,
 "nbformat_minor": 5
}
