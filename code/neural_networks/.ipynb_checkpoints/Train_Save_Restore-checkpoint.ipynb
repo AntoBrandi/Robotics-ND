{
 "cells": [
  {
   "cell_type": "markdown",
   "id": "fd7876e8",
   "metadata": {},
   "source": [
    "### Train, Save and Restore\n",
    "* Train a Deep Learning Model\n",
    "* Save the Learned Parameters\n",
    "* Restore the Saved Parameters"
   ]
  },
  {
   "cell_type": "markdown",
   "id": "f617b66f",
   "metadata": {},
   "source": [
    "### Create the Model"
   ]
  },
  {
   "cell_type": "code",
   "execution_count": 4,
   "id": "d8afe7a8",
   "metadata": {},
   "outputs": [],
   "source": [
    "import tensorflow.compat.v1 as tf\n",
    "tf.disable_v2_behavior()\n",
    "import numpy as np\n",
    "import math\n",
    "\n",
    "def batches(batch_size, features, labels):\n",
    "    \"\"\"\n",
    "    Create batches of features and labels\n",
    "    :param batch_size: The batch size\n",
    "    :param features: List of features\n",
    "    :param labels: List of labels\n",
    "    :return: Batches of (Features, Labels)\n",
    "    \"\"\"\n",
    "    assert len(features) == len(labels)\n",
    "    outout_batches = []\n",
    "    out_features = []\n",
    "    out_labels = []\n",
    "    \n",
    "    sample_size = len(features)\n",
    "    for start_i in range(0, sample_size, batch_size):\n",
    "        end_i = start_i + batch_size\n",
    "        tmp_feat = features[start_i:end_i]\n",
    "        tmp_lab = labels[start_i:end_i]\n",
    "        batch = [tmp_feat, tmp_lab]\n",
    "        out_features.append(tmp_feat)\n",
    "        out_labels.append(tmp_lab)\n",
    "        outout_batches.append(batch)\n",
    "        \n",
    "    return outout_batches\n",
    "\n",
    "learning_rate = 0.001\n",
    "n_input = 784  # MNIST data input (img shape: 28*28)\n",
    "n_classes = 10  # MNIST total classes (0-9 digits)\n",
    "\n",
    "# Import MNIST data\n",
    "# (x_train, y_train), (x_test, y_test)\n",
    "(train_features, train_labels), (test_features, test_labels) = tf.keras.datasets.mnist.load_data()\n",
    "\n",
    "\n",
    "n_input = 784  # MNIST data input (img shape: 28*28)\n",
    "n_classes = 10  # MNIST total classes (0-9 digits)\n",
    "\n",
    "train_features = train_features.reshape((60000, 28 * 28))      # 60000 * 784\n",
    "test_features = test_features.reshape((10000, 28 * 28))        # 10000 * 784\n",
    "train_features = train_features.astype('float32') / 255\n",
    "test_features = test_features.astype('float32') / 255\n",
    "train_labels = train_labels.astype('float32') / 255            \n",
    "test_labels = test_labels.astype('float32') / 255\n",
    "train_labels = tf.keras.utils.to_categorical(train_labels, 10) # 60000 * 10\n",
    "test_labels = tf.keras.utils.to_categorical(test_labels, 10)   # 10000 * 10\n",
    "\n",
    "# Features and Labels\n",
    "features = tf.placeholder(tf.float32, [None, n_input])\n",
    "labels = tf.placeholder(tf.float32, [None, n_classes])\n",
    "\n",
    "# Weights & bias\n",
    "weights = tf.Variable(tf.random_normal([n_input, n_classes]))\n",
    "bias = tf.Variable(tf.random_normal([n_classes]))\n",
    "\n",
    "# Logits - xW + b\n",
    "logits = tf.add(tf.matmul(features, weights), bias)\n",
    "\n",
    "# Define loss and optimizer\n",
    "cost = tf.reduce_mean(tf.nn.softmax_cross_entropy_with_logits(logits=logits, labels=labels))\n",
    "optimizer = tf.train.GradientDescentOptimizer(learning_rate=learning_rate).minimize(cost)\n",
    "\n",
    "# Calculate accuracy\n",
    "correct_prediction = tf.equal(tf.argmax(logits, 1), tf.argmax(labels, 1))\n",
    "accuracy = tf.reduce_mean(tf.cast(correct_prediction, tf.float32))"
   ]
  },
  {
   "cell_type": "markdown",
   "id": "32b9de0b",
   "metadata": {},
   "source": [
    "### Train and Save the Model"
   ]
  },
  {
   "cell_type": "code",
   "execution_count": 8,
   "id": "a62c6379",
   "metadata": {},
   "outputs": [
    {
     "name": "stdout",
     "output_type": "stream",
     "text": [
      "Epoch 0   - Validation Accuracy: 0.569599986076355\n",
      "Epoch 10  - Validation Accuracy: 0.9800999760627747\n",
      "Epoch 20  - Validation Accuracy: 0.9908999800682068\n",
      "Epoch 30  - Validation Accuracy: 0.9941999912261963\n",
      "Epoch 40  - Validation Accuracy: 0.9958000183105469\n",
      "Epoch 50  - Validation Accuracy: 0.9968000054359436\n",
      "Epoch 60  - Validation Accuracy: 0.9972000122070312\n",
      "Epoch 70  - Validation Accuracy: 0.9976999759674072\n",
      "Epoch 80  - Validation Accuracy: 0.9979000091552734\n",
      "Epoch 90  - Validation Accuracy: 0.9983000159263611\n",
      "Trained Model Saved.\n"
     ]
    }
   ],
   "source": [
    "save_file = './train_model.ckpt'\n",
    "batch_size = 128\n",
    "n_epochs = 100\n",
    "\n",
    "saver = tf.train.Saver()\n",
    "\n",
    "# Launch the graph\n",
    "with tf.Session() as sess:\n",
    "    sess.run(tf.global_variables_initializer())\n",
    "\n",
    "    # Training cycle\n",
    "    for epoch in range(n_epochs):\n",
    "\n",
    "        # Loop over all batches\n",
    "        for batch_features, batch_labels in batches(batch_size, train_features, train_labels):\n",
    "            sess.run(optimizer, feed_dict={features: batch_features, labels: batch_labels})\n",
    "\n",
    "        # Print status for every 10 epochs\n",
    "        if epoch % 10 == 0:\n",
    "            valid_accuracy = sess.run(\n",
    "                accuracy,\n",
    "                feed_dict={\n",
    "                    features: test_features,\n",
    "                    labels: test_labels})\n",
    "            print('Epoch {:<3} - Validation Accuracy: {}'.format(\n",
    "                epoch,\n",
    "                valid_accuracy))\n",
    "\n",
    "    # Save the model\n",
    "    saver.save(sess, save_file)\n",
    "    print('Trained Model Saved.')"
   ]
  },
  {
   "cell_type": "markdown",
   "id": "eef991d5",
   "metadata": {},
   "source": [
    "### Load the Trained Model"
   ]
  },
  {
   "cell_type": "code",
   "execution_count": 10,
   "id": "818b7180",
   "metadata": {},
   "outputs": [
    {
     "name": "stdout",
     "output_type": "stream",
     "text": [
      "INFO:tensorflow:Restoring parameters from ./train_model.ckpt\n",
      "Test Accuracy: 0.9984999895095825\n"
     ]
    }
   ],
   "source": [
    "saver = tf.train.Saver()\n",
    "\n",
    "# Launch the graph\n",
    "with tf.Session() as sess:\n",
    "    saver.restore(sess, save_file)\n",
    "\n",
    "    test_accuracy = sess.run(\n",
    "        accuracy,\n",
    "        feed_dict={features: test_features, labels: test_labels})\n",
    "\n",
    "print('Test Accuracy: {}'.format(test_accuracy))"
   ]
  }
 ],
 "metadata": {
  "kernelspec": {
   "display_name": "Python 3",
   "language": "python",
   "name": "python3"
  },
  "language_info": {
   "codemirror_mode": {
    "name": "ipython",
    "version": 3
   },
   "file_extension": ".py",
   "mimetype": "text/x-python",
   "name": "python",
   "nbconvert_exporter": "python",
   "pygments_lexer": "ipython3",
   "version": "3.8.8"
  }
 },
 "nbformat": 4,
 "nbformat_minor": 5
}
