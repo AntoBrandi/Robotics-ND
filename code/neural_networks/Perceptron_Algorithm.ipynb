{
 "cells": [
  {
   "cell_type": "markdown",
   "metadata": {},
   "source": [
    "### Perceptron Algorithm \n",
    "Implementation of the Algorithm for managing the weights and the bias of a single perceptron\n",
    "\n",
    "![title](perceptron.jpg)"
   ]
  },
  {
   "cell_type": "code",
   "execution_count": 5,
   "metadata": {},
   "outputs": [],
   "source": [
    "import numpy as np\n",
    "# Setting the random seed, feel free to change it and see different solutions.\n",
    "np.random.seed(42)"
   ]
  },
  {
   "cell_type": "markdown",
   "metadata": {},
   "source": [
    "### Step Function\n",
    "Function that generates the output of the perceptron based on the values of its input weighted by the input weight and the bias\n",
    "\n",
    "![title](step.jpg)"
   ]
  },
  {
   "cell_type": "code",
   "execution_count": 6,
   "metadata": {},
   "outputs": [],
   "source": [
    "def stepFunction(t):\n",
    "    if t >= 0:\n",
    "        return 1\n",
    "    return 0"
   ]
  },
  {
   "cell_type": "markdown",
   "metadata": {},
   "source": [
    "### Nucleus of the Perceptron\n",
    "Components of the Peceptron that makes the actual prediction based on the inputs, weights and bias\n",
    "\n",
    "![title](nucleus.jpg)"
   ]
  },
  {
   "cell_type": "code",
   "execution_count": 7,
   "metadata": {},
   "outputs": [],
   "source": [
    "def prediction(X, W, b):\n",
    "    return stepFunction((np.matmul(X,W)+b)[0])"
   ]
  },
  {
   "cell_type": "code",
   "execution_count": 34,
   "metadata": {},
   "outputs": [],
   "source": [
    "# Implement the perceptron trick.\n",
    "# The function should receive as inputs the data X, the labels y,\n",
    "# the weights W (as an array), and the bias b,\n",
    "# update the weights and bias W, b, according to the perceptron algorithm,\n",
    "# and return W and b.\n",
    "def perceptronStep(X, y, W, b, learn_rate = 0.01):\n",
    "    \n",
    "    for i, x in enumerate(X):\n",
    "        y_pred = prediction(x, W, b)\n",
    "        if y_pred != y[i]:\n",
    "            if y_pred == 0:\n",
    "                # Increment the Weights\n",
    "                W[0] += learn_rate * x[0]\n",
    "                W[1] += learn_rate * x[1]\n",
    "                b += learn_rate\n",
    "            else:\n",
    "                # decrement the Weights\n",
    "                W[0] -= learn_rate * x[0]\n",
    "                W[1] -= learn_rate * x[1]\n",
    "                b -= learn_rate\n",
    "    \n",
    "    \n",
    "    return W, b"
   ]
  },
  {
   "cell_type": "markdown",
   "metadata": {},
   "source": [
    "### Update the Weights \n",
    "Find the optimal line that categorize correctly most of the points"
   ]
  },
  {
   "cell_type": "code",
   "execution_count": 35,
   "metadata": {},
   "outputs": [],
   "source": [
    "# This function runs the perceptron algorithm repeatedly on the dataset,\n",
    "# and returns a few of the boundary lines obtained in the iterations,\n",
    "# for plotting purposes.\n",
    "# Feel free to play with the learning rate and the num_epochs,\n",
    "# and see your results plotted below.\n",
    "def trainPerceptronAlgorithm(X, y, learn_rate = 0.01, num_epochs = 25):\n",
    "    x_min, x_max = min(X.T[0]), max(X.T[0])\n",
    "    y_min, y_max = min(X.T[1]), max(X.T[1])\n",
    "    W = np.array(np.random.rand(2,1))\n",
    "    b = np.random.rand(1)[0] + x_max\n",
    "    # These are the solution lines that get plotted below.\n",
    "    boundary_lines = []\n",
    "    for i in range(num_epochs):\n",
    "        # In each epoch, we apply the perceptron step.\n",
    "        W, b = perceptronStep(X, y, W, b, learn_rate)\n",
    "        boundary_lines.append((-W[0]/W[1], -b/W[1]))\n",
    "    return boundary_lines"
   ]
  },
  {
   "cell_type": "markdown",
   "metadata": {},
   "source": [
    "### Load the Data and Run"
   ]
  },
  {
   "cell_type": "code",
   "execution_count": 36,
   "metadata": {},
   "outputs": [
    {
     "data": {
      "text/plain": [
       "[(array([1.32111616]), array([3.39038455])),\n",
       " (array([-0.02727335]), array([0.58093127])),\n",
       " (array([-0.06953723]), array([0.5033617])),\n",
       " (array([-0.09336359]), array([0.50938365])),\n",
       " (array([-0.11776695]), array([0.51555142])),\n",
       " (array([-0.14276851]), array([0.52187039])),\n",
       " (array([-0.16839056]), array([0.52834619])),\n",
       " (array([-0.19465648]), array([0.53498471])),\n",
       " (array([-0.20547521]), array([0.57024877])),\n",
       " (array([-0.22495207]), array([0.57724872])),\n",
       " (array([-0.24289533]), array([0.58594893])),\n",
       " (array([-0.26138775]), array([0.5949154])),\n",
       " (array([-0.28045492]), array([0.60416056])),\n",
       " (array([-0.30012406]), array([0.6136976])),\n",
       " (array([-0.32842636]), array([0.5900821])),\n",
       " (array([-0.34182866]), array([0.63222086])),\n",
       " (array([-0.37108442]), array([0.6079341])),\n",
       " (array([-0.38612915]), array([0.65189711])),\n",
       " (array([-0.4164041]), array([0.62689996])),\n",
       " (array([-0.44025201]), array([0.63605195])),\n",
       " (array([-0.44738156]), array([0.67836799])),\n",
       " (array([-0.46823366]), array([0.64805537])),\n",
       " (array([-0.4761619]), array([0.69147238])),\n",
       " (array([-0.49729176]), array([0.66052055])),\n",
       " (array([-0.51307359]), array([0.70672918]))]"
      ]
     },
     "execution_count": 36,
     "metadata": {},
     "output_type": "execute_result"
    }
   ],
   "source": [
    "import pandas as pd\n",
    "\n",
    "df = pd.read_csv('data.csv', header=None)\n",
    "X = df.iloc[:, 0:2].to_numpy()\n",
    "y = df.iloc[:, 2].to_numpy()\n",
    "\n",
    "trainPerceptronAlgorithm(X, y)"
   ]
  }
 ],
 "metadata": {
  "kernelspec": {
   "display_name": "Python 3",
   "language": "python",
   "name": "python3"
  },
  "language_info": {
   "codemirror_mode": {
    "name": "ipython",
    "version": 3
   },
   "file_extension": ".py",
   "mimetype": "text/x-python",
   "name": "python",
   "nbconvert_exporter": "python",
   "pygments_lexer": "ipython3",
   "version": "3.8.5"
  }
 },
 "nbformat": 4,
 "nbformat_minor": 4
}
