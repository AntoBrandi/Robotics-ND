{
 "cells": [
  {
   "cell_type": "markdown",
   "metadata": {},
   "source": [
    "### Conversion from a Rotation Matrix to Euler Angles\n",
    "Given a general rotation matriz, extract the X-Y-Z Euler angles \n",
    "in the extrinsic composition"
   ]
  },
  {
   "cell_type": "code",
   "execution_count": 9,
   "metadata": {},
   "outputs": [],
   "source": [
    "#!/usr/bin/env python\n",
    "import numpy as np\n",
    "from sympy.matrices import Matrix\n",
    "from sympy import symbols, atan2, sqrt\n",
    "\n",
    "# Conversion Factors\n",
    "rtd = 180./np.pi # radians to degrees\n",
    "dtr = np.pi/180. # degrees to radians\n",
    "\n",
    "\n",
    "# Fixed Axis X-Y-Z Rotation Matrix\n",
    "R_XYZ = Matrix([[ 0.353553390593274, -0.306186217847897, 0.883883476483184],\n",
    "            [ 0.353553390593274,  0.918558653543692, 0.176776695296637],\n",
    "            [-0.866025403784439,               0.25, 0.433012701892219]])"
   ]
  },
  {
   "cell_type": "code",
   "execution_count": 10,
   "metadata": {},
   "outputs": [],
   "source": [
    "# Calculate the Euler angles that produces a rotation equivalent to R (above)\n",
    "# NOTE: Be sure your answer has units of DEGREES!\n",
    "alpha = atan2(R_XYZ[1,0], R_XYZ[0,0]) # rotation about Z-axis\n",
    "beta  = atan2(-R_XYZ[2,0], sqrt((R_XYZ[0,0]*R_XYZ[0,0])+(R_XYZ[1,0]*R_XYZ[1,0]))) # rotation about Y-axis\n",
    "gamma = atan2(R_XYZ[2,1], R_XYZ[2,2]) # rotation about X-axis"
   ]
  },
  {
   "cell_type": "code",
   "execution_count": 11,
   "metadata": {},
   "outputs": [
    {
     "name": "stdout",
     "output_type": "stream",
     "text": [
      "Alpha 45.0000000000000\n",
      "Beta 60.0000000000000\n",
      "gamma 30.0000000000000\n"
     ]
    }
   ],
   "source": [
    "print('Alpha {}'.format(alpha*rtd))\n",
    "print('Beta {}'.format(beta*rtd))\n",
    "print('gamma {}'.format(gamma*rtd))"
   ]
  }
 ],
 "metadata": {
  "kernelspec": {
   "display_name": "Python 3",
   "language": "python",
   "name": "python3"
  },
  "language_info": {
   "codemirror_mode": {
    "name": "ipython",
    "version": 3
   },
   "file_extension": ".py",
   "mimetype": "text/x-python",
   "name": "python",
   "nbconvert_exporter": "python",
   "pygments_lexer": "ipython3",
   "version": "3.8.5"
  }
 },
 "nbformat": 4,
 "nbformat_minor": 4
}
