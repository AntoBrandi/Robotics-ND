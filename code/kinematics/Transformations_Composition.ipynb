{
 "cells": [
  {
   "cell_type": "markdown",
   "metadata": {},
   "source": [
    "### Composition of Homogeneous Transformations\n",
    "How to compose homogeneous transformations to link two reference frames following two alternative paths"
   ]
  },
  {
   "cell_type": "code",
   "execution_count": 24,
   "metadata": {},
   "outputs": [],
   "source": [
    "#!/usr/bin/env python\n",
    "\n",
    "from sympy import symbols, cos, sin, pi, sqrt, simplify\n",
    "from sympy.matrices import Matrix\n",
    "import numpy as np\n",
    "\n",
    "### Create symbols for joint variables\n",
    "# The numbers 1 to 4 correspond to each rotation in the order specified to you.\n",
    "q1, q2, q3, q4 = symbols('q1:5')\n",
    "\n",
    "# Conversion Factors\n",
    "rtd = 180./np.pi # radians to degrees\n",
    "dtr = np.pi/180. # degrees to radians\n",
    "\n",
    "### Define functions for Rotation Matrices about x, y, and z given specific angle.\n",
    "def rot_x(q):\n",
    "    '''Elementary Rotation Matrix along the X-Axis'''\n",
    "    R_x = Matrix([[ 1,              0,        0],\n",
    "                  [ 0,         cos(q),  -sin(q)],\n",
    "                  [ 0,         sin(q),  cos(q)]])\n",
    "    return R_x\n",
    "    \n",
    "def rot_y(q):  \n",
    "    '''Elementary Rotation Matrix along the Y-Axis'''\n",
    "    R_y = Matrix([[ cos(q),         0,  sin(q)],\n",
    "                  [      0,         1,       0],\n",
    "                  [-sin(q),         0,  cos(q)]])\n",
    "    return R_y\n",
    "\n",
    "def rot_z(q):\n",
    "    '''Elementary Rotation Matrix along the Z-Axis'''\n",
    "    R_z = Matrix([[ cos(q), -sin(q),        0],\n",
    "                  [ sin(q),  cos(q),        0],\n",
    "                  [ 0,              0,      1]])\n",
    "    return R_z"
   ]
  },
  {
   "cell_type": "code",
   "execution_count": 26,
   "metadata": {},
   "outputs": [
    {
     "name": "stdout",
     "output_type": "stream",
     "text": [
      "Transformation Matrix for A->B->E:\n",
      "Matrix([[0, -1.00000000000000, 0, -2.00000000000000], [0, 0, -1.00000000000000, 4.00000000000000], [1.00000000000000, 0, 0, 4.00000000000000], [0, 0, 0, 1.00000000000000]])\n",
      "Transformation Matrix for A->C->D->E:\n",
      "Matrix([[0, -1.00000000000000, 0, -2.00000000000000], [0, 0, -1.00000000000000, 4.00000000000000], [1.00000000000000, 0, 0, 4.00000000000000], [0, 0, 0, 1.00000000000000]])\n"
     ]
    }
   ],
   "source": [
    "### Define rotations between frames\n",
    "\n",
    "# Initial Rotation Matrix for Frame A\n",
    "Ra = Matrix([[1, 0, 0],\n",
    "             [0, 1, 0],\n",
    "             [0, 0, 1]])\n",
    "\n",
    "# Rotations performed on individual Frames for A->B->E\n",
    "Rb_a = rot_y(q1)\n",
    "Re_b = rot_x(q2)\n",
    "\n",
    "# Rotations performed on individual Frames for A->C->D->E\n",
    "Rc_a = Ra\n",
    "Rd_c = rot_x(q3)\n",
    "Re_d = rot_z(q4)\n",
    "\n",
    "### Define Translations between frames.\n",
    "ta = Matrix([[0], [0], [0]])\n",
    "tb_a = Matrix([[-2], [2], [4]])\n",
    "te_b = Matrix([[0], [2], [0]])\n",
    "tc_a = Matrix([[4], [4], [0]])\n",
    "td_c = Matrix([[-3], [3], [2]])\n",
    "te_d = Matrix([[-3], [2], [3]])\n",
    "\n",
    "### Define homogenous transformation matrices\n",
    "# HINT: Check out sympy's documentation for functions row_join and col_join\n",
    "omg = Matrix([[0, 0, 0, 1]])\n",
    "\n",
    "Ta = Ra.row_join(ta)\n",
    "Ta = Ta.col_join(omg)\n",
    "\n",
    "Tb_a = Rb_a.row_join(tb_a)\n",
    "Tb_a = Tb_a.col_join(omg)\n",
    "\n",
    "Te_b = Re_b.row_join(te_b)\n",
    "Te_b = Te_b.col_join(omg)\n",
    "\n",
    "Tc_a = Rc_a.row_join(tc_a)\n",
    "Tc_a = Tc_a.col_join(omg)\n",
    "\n",
    "Td_c = Rd_c.row_join(td_c)\n",
    "Td_c = Td_c.col_join(omg)\n",
    "\n",
    "Te_d = Re_d.row_join(te_d)\n",
    "Te_d = Te_d.col_join(omg)        \n",
    "\n",
    "### Composition of Transformations\n",
    "Te_a_1 = simplify(Ta * Tb_a * Te_b)\n",
    "\n",
    "Te_a_2 = simplify(Ta * Tc_a * Td_c * Te_d)\n",
    "\n",
    "### Calculate orientation and position for E\n",
    "E_1 = Te_a_1.evalf(subs={q1: -pi/2, q2: pi/2}, chop = True)\n",
    "\n",
    "E_2 = Te_a_2.evalf(subs={q3: pi/2, q4: pi/2}, chop = True)\n",
    "\n",
    "print(\"Transformation Matrix for A->B->E:\")\n",
    "print(E_1)\n",
    "\n",
    "print(\"Transformation Matrix for A->C->D->E:\")\n",
    "print(E_2)"
   ]
  }
 ],
 "metadata": {
  "kernelspec": {
   "display_name": "Python 3",
   "language": "python",
   "name": "python3"
  },
  "language_info": {
   "codemirror_mode": {
    "name": "ipython",
    "version": 3
   },
   "file_extension": ".py",
   "mimetype": "text/x-python",
   "name": "python",
   "nbconvert_exporter": "python",
   "pygments_lexer": "ipython3",
   "version": "3.8.5"
  }
 },
 "nbformat": 4,
 "nbformat_minor": 4
}
