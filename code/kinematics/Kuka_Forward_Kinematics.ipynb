{
 "cells": [
  {
   "cell_type": "markdown",
   "metadata": {},
   "source": [
    "### Forward Kinematics \n",
    "Calculation of the Forward Kinematics for the **Kuka KR210** using the DH convention"
   ]
  },
  {
   "cell_type": "code",
   "execution_count": 73,
   "metadata": {},
   "outputs": [],
   "source": [
    "from sympy import symbols, cos, sin, pi, sqrt, simplify, atan2\n",
    "from sympy.matrices import Matrix\n",
    "import numpy as np"
   ]
  },
  {
   "cell_type": "markdown",
   "metadata": {},
   "source": [
    "Define the DH parameters"
   ]
  },
  {
   "cell_type": "code",
   "execution_count": 74,
   "metadata": {},
   "outputs": [],
   "source": [
    "# Symbolic Variables for oint variables\n",
    "q1, q2, q3, q4, q5, q6, q7 = symbols('q1:8') # theta or q\n",
    "d1, d2, d3, d4, d5, d6, d7 = symbols('d1:8')\n",
    "a0, a1, a2, a3, a4, a5, a6 = symbols('a0:7')\n",
    "alpha0, alpha1, alpha2, alpha3, alpha4, alpha5, alpha6 = symbols('alpha0:7')\n",
    "\n",
    "# DH Parameters (taken from the URDF)\n",
    "s = {alpha0:     0,    a0:      0,   d1:  0.75,\n",
    "     alpha1: -pi/2,    a1:   0.35,   d2:     0,    q2: q2-pi/2,\n",
    "     alpha2:     0,    a2:   1.25,   d3:     0,\n",
    "     alpha3: -pi/2,    a3: -0.054,   d4:  1.50,\n",
    "     alpha4:  pi/2,    a4:      0,   d5:     0,\n",
    "     alpha5: -pi/2,    a5:      0,   d6:     0,\n",
    "     alpha6:     0,    a6:      0,   d7: 0.303,    q7:      0}"
   ]
  },
  {
   "cell_type": "markdown",
   "metadata": {},
   "source": [
    "Define the Homogeneous Transforms from a frame to its neighbor"
   ]
  },
  {
   "cell_type": "code",
   "execution_count": 75,
   "metadata": {},
   "outputs": [],
   "source": [
    "# Sample Transform Matrix for two consequent frames\n",
    "# Tx = Matrix([[           cos(q),              -sin(q),              0,                a],\n",
    "#              [sin(q)*cos(alpha),    cos(q)*cos(alpha),    -sin(alpha),    -sin(alpha)*d],\n",
    "#              [sin(q)*sin(alpha),    cos(q)*sin(alpha),     cos(alpha),     cos(alpha)*d],\n",
    "#              [                0,                    0,              0,                1]])"
   ]
  },
  {
   "cell_type": "code",
   "execution_count": 76,
   "metadata": {},
   "outputs": [],
   "source": [
    "# base_link to link_1\n",
    "T0_1 = Matrix([[            cos(q1),              -sin(q1),                0,                 a0],\n",
    "               [sin(q1)*cos(alpha0),    cos(q1)*cos(alpha0),    -sin(alpha0),    -sin(alpha0)*d1],\n",
    "               [sin(q1)*sin(alpha0),    cos(q1)*sin(alpha0),     cos(alpha0),     cos(alpha0)*d1],\n",
    "               [                  0,                      0,               0,                  1]])\n",
    "\n",
    "# link_1 to link_2\n",
    "T1_2 = Matrix([[            cos(q2),              -sin(q2),                0,                 a1],\n",
    "               [sin(q2)*cos(alpha1),    cos(q2)*cos(alpha1),    -sin(alpha1),    -sin(alpha1)*d2],\n",
    "               [sin(q2)*sin(alpha1),    cos(q2)*sin(alpha1),     cos(alpha1),     cos(alpha1)*d2],\n",
    "               [                  0,                      0,               0,                  1]])\n",
    "\n",
    "# link_2 to link_3\n",
    "T2_3 = Matrix([[            cos(q3),              -sin(q3),                0,                 a2],\n",
    "               [sin(q3)*cos(alpha2),    cos(q3)*cos(alpha2),    -sin(alpha2),    -sin(alpha2)*d3],\n",
    "               [sin(q3)*sin(alpha2),    cos(q3)*sin(alpha2),     cos(alpha2),     cos(alpha2)*d3],\n",
    "               [                  0,                      0,               0,                  1]])\n",
    "\n",
    "# link_3 to link_4\n",
    "T3_4 = Matrix([[            cos(q4),              -sin(q4),                0,                 a3],\n",
    "               [sin(q4)*cos(alpha3),    cos(q4)*cos(alpha3),    -sin(alpha3),    -sin(alpha3)*d4],\n",
    "               [sin(q4)*sin(alpha3),    cos(q4)*sin(alpha3),     cos(alpha3),     cos(alpha3)*d4],\n",
    "               [                  0,                      0,               0,                  1]])\n",
    "\n",
    "# link_4 to link_5\n",
    "T4_5 = Matrix([[            cos(q5),              -sin(q5),                0,                 a4],\n",
    "               [sin(q5)*cos(alpha4),    cos(q5)*cos(alpha4),    -sin(alpha4),    -sin(alpha4)*d5],\n",
    "               [sin(q5)*sin(alpha4),    cos(q5)*sin(alpha4),     cos(alpha4),     cos(alpha4)*d5],\n",
    "               [                  0,                      0,               0,                  1]])\n",
    "\n",
    "# link_5 to link_6\n",
    "T5_6 = Matrix([[            cos(q6),              -sin(q6),                0,                 a5],\n",
    "               [sin(q6)*cos(alpha5),    cos(q6)*cos(alpha5),    -sin(alpha5),    -sin(alpha5)*d6],\n",
    "               [sin(q6)*sin(alpha5),    cos(q6)*sin(alpha5),     cos(alpha5),     cos(alpha5)*d6],\n",
    "               [                  0,                      0,               0,                  1]])\n",
    "\n",
    "# link_6 to link_g\n",
    "T6_G = Matrix([[            cos(q7),              -sin(q7),                0,                 a6],\n",
    "               [sin(q7)*cos(alpha6),    cos(q7)*cos(alpha6),    -sin(alpha6),    -sin(alpha6)*d7],\n",
    "               [sin(q7)*sin(alpha6),    cos(q7)*sin(alpha6),     cos(alpha6),     cos(alpha6)*d7],\n",
    "               [                  0,                      0,               0,                  1]])\n",
    "\n",
    "# Substitute in the symbolic matrix the DH parameters extracted from the URDF\n",
    "T0_1 = T0_1.subs(s)\n",
    "T1_2 = T1_2.subs(s)\n",
    "T2_3 = T2_3.subs(s)\n",
    "T3_4 = T3_4.subs(s)\n",
    "T4_5 = T4_5.subs(s)\n",
    "T5_6 = T5_6.subs(s)\n",
    "T6_G = T6_G.subs(s)"
   ]
  },
  {
   "cell_type": "markdown",
   "metadata": {},
   "source": [
    "Compose the Homogeneous Transformations"
   ]
  },
  {
   "cell_type": "code",
   "execution_count": 77,
   "metadata": {},
   "outputs": [],
   "source": [
    "# Post multiply each transformation matrix\n",
    "T0_2 = T0_1 * T1_2\n",
    "T0_3 = T0_2 * T2_3\n",
    "T0_4 = T0_3 * T3_4\n",
    "T0_5 = T0_4 * T4_5\n",
    "T0_6 = T0_5 * T5_6\n",
    "T0_G = T0_6 * T6_G"
   ]
  },
  {
   "cell_type": "markdown",
   "metadata": {},
   "source": [
    "Consider the different orientation from DH parameters used in this section to the TF used in the URDF of the robot\n",
    "\n",
    "\n",
    "![title](img/dh.jpg)\n",
    "![title](img/tf.jpg)\n",
    "\n",
    "\n",
    "Move from one to another by applying two rotations, the first one about the Z-Axis of 180 degrees and the second one about the intrinsic Y-Axis about -90 degrees"
   ]
  },
  {
   "cell_type": "code",
   "execution_count": 78,
   "metadata": {},
   "outputs": [],
   "source": [
    "# elementary rotation about the z axis\n",
    "R_z = Matrix([[ cos(pi), -sin(pi),        0,    0],\n",
    "              [ sin(pi),  cos(pi),        0,    0],\n",
    "              [ 0,              0,        1,    0],\n",
    "              [ 0,              0,        0,    1]])\n",
    "\n",
    "\n",
    "# elemetary rotation about the y axis\n",
    "R_y = Matrix([[ cos(-pi/2),        0,  sin(-pi/2),    0],\n",
    "              [          0,        1,           0,    0],\n",
    "              [-sin(-pi/2),        0,  cos(-pi/2),    0],\n",
    "              [          0,        0,           0,    1]])\n",
    "\n",
    "# adjusting the DH to the TF\n",
    "R_adj = R_z * R_y\n",
    "T_adj = T0_G * R_adj"
   ]
  },
  {
   "cell_type": "markdown",
   "metadata": {},
   "source": [
    "Assign Numerical Values to the joint angles and extract the gripper position with respect to the **base_link** frame"
   ]
  },
  {
   "cell_type": "code",
   "execution_count": 79,
   "metadata": {},
   "outputs": [],
   "source": [
    "# Conversion Factors\n",
    "rtd = 180./pi # radians to degrees\n",
    "dtr = pi/180. # degrees to radians\n",
    "\n",
    "\n",
    "# Convert Homogeneous Transform Matrix to Euler Angles\n",
    "def trans_to_rpy(T):\n",
    "    y = atan2(T[1,0], T[0,0]) # rotation about Z-axis\n",
    "    p = atan2(-T[2,0], sqrt((T[0,0]*T[0,0])+(T[1,0]*T[1,0]))) # rotation about Y-axis\n",
    "    r = atan2(T[2,1], T[2,2]) # rotation about X-axis\n",
    "    return r, p, y"
   ]
  },
  {
   "cell_type": "code",
   "execution_count": 80,
   "metadata": {},
   "outputs": [
    {
     "name": "stdout",
     "output_type": "stream",
     "text": [
      "Translation X: 1.23478853001400\n",
      "            Y: 1.76371944655205\n",
      "            Z: 1.94600000000000\n",
      "\n",
      "Rotation RPY (radian) R: 0.960000000000000\n",
      "                      P: 0\n",
      "                      Y: -0.541592653589793 + pi\n",
      "\n",
      "Rotation RPY (degrees) R: 172.8/pi\n",
      "                       P: 0\n",
      "                       Y: 180.0*(-0.541592653589793 + pi)/pi\n"
     ]
    }
   ],
   "source": [
    "T_val = T_adj.evalf(subs={q1: 0.96, q2: 0, q3: 0, q4: 2.6, q5: 0, q6: 0})\n",
    "y, p, r = trans_to_rpy(T_val)\n",
    "\n",
    "print('Translation X: {}'.format(T_val.col(-1)[0]))\n",
    "print('            Y: {}'.format(T_val.col(-1)[1]))\n",
    "print('            Z: {}'.format(T_val.col(-1)[2]))\n",
    "print()\n",
    "print('Rotation RPY (radian) R: {}'.format(r))\n",
    "print('                      P: {}'.format(p))\n",
    "print('                      Y: {}'.format(y))\n",
    "print()\n",
    "print('Rotation RPY (degrees) R: {}'.format(r*rtd))\n",
    "print('                       P: {}'.format(p*rtd))\n",
    "print('                       Y: {}'.format(y*rtd))"
   ]
  }
 ],
 "metadata": {
  "kernelspec": {
   "display_name": "Python 3",
   "language": "python",
   "name": "python3"
  },
  "language_info": {
   "codemirror_mode": {
    "name": "ipython",
    "version": 3
   },
   "file_extension": ".py",
   "mimetype": "text/x-python",
   "name": "python",
   "nbconvert_exporter": "python",
   "pygments_lexer": "ipython3",
   "version": "3.8.5"
  }
 },
 "nbformat": 4,
 "nbformat_minor": 4
}
