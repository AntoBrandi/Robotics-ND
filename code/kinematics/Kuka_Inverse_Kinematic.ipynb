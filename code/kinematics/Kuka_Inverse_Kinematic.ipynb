{
 "cells": [
  {
   "cell_type": "markdown",
   "metadata": {},
   "source": [
    "### Inverse Kinematics\n",
    "Calculation of the Inverse Kinematics for the **Kuka KR210** using the DH convention"
   ]
  },
  {
   "cell_type": "code",
   "execution_count": 33,
   "metadata": {},
   "outputs": [],
   "source": [
    "from sympy import symbols, cos, sin, pi, sqrt, simplify, atan2\n",
    "from sympy.matrices import Matrix\n",
    "import numpy as np"
   ]
  },
  {
   "cell_type": "code",
   "execution_count": 34,
   "metadata": {},
   "outputs": [],
   "source": [
    "# Symbolic Variables for oint variables\n",
    "q1, q2, q3, q4, q5, q6, q7 = symbols('q1:8') # theta or q\n",
    "d1, d2, d3, d4, d5, d6, d7 = symbols('d1:8')\n",
    "a0, a1, a2, a3, a4, a5, a6 = symbols('a0:7')\n",
    "alpha0, alpha1, alpha2, alpha3, alpha4, alpha5, alpha6 = symbols('alpha0:7')\n",
    "\n",
    "# DH Parameters (taken from the URDF)\n",
    "s = {alpha0:     0,    a0:      0,   d1:  0.75,\n",
    "     alpha1: -pi/2,    a1:   0.35,   d2:     0,    q2: q2-pi/2,\n",
    "     alpha2:     0,    a2:   1.25,   d3:     0,\n",
    "     alpha3: -pi/2,    a3: -0.054,   d4:  1.50,\n",
    "     alpha4:  pi/2,    a4:      0,   d5:     0,\n",
    "     alpha5: -pi/2,    a5:      0,   d6:     0,\n",
    "     alpha6:     0,    a6:      0,   d7: 0.303,    q7:       0}"
   ]
  },
  {
   "cell_type": "code",
   "execution_count": 35,
   "metadata": {},
   "outputs": [],
   "source": [
    "### Define functions for Rotation Matrices about x, y, and z given specific angle.\n",
    "def rot_x(q):\n",
    "    '''Elementary Rotation Matrix along the X-Axis'''\n",
    "    R_x = Matrix([[ 1,              0,        0],\n",
    "                  [ 0,         cos(q),  -sin(q)],\n",
    "                  [ 0,         sin(q),  cos(q)]])\n",
    "    return R_x\n",
    "    \n",
    "def rot_y(q):  \n",
    "    '''Elementary Rotation Matrix along the Y-Axis'''\n",
    "    R_y = Matrix([[ cos(q),         0,  sin(q)],\n",
    "                  [      0,         1,       0],\n",
    "                  [-sin(q),         0,  cos(q)]])\n",
    "    return R_y\n",
    "\n",
    "def rot_z(q):\n",
    "    '''Elementary Rotation Matrix along the Z-Axis'''\n",
    "    R_z = Matrix([[ cos(q), -sin(q),        0],\n",
    "                  [ sin(q),  cos(q),        0],\n",
    "                  [ 0,              0,      1]])\n",
    "    return R_z"
   ]
  },
  {
   "cell_type": "markdown",
   "metadata": {},
   "source": [
    "### Inverse Position Problem\n",
    "First solve the inverse position problem that is calculate the first three joint angles that brings the center of the wirst in the desired position\n",
    "\n",
    "![title](img/ikp.jpg)\n",
    "\n",
    "Let's call this point W"
   ]
  },
  {
   "cell_type": "code",
   "execution_count": 36,
   "metadata": {},
   "outputs": [
    {
     "name": "stdout",
     "output_type": "stream",
     "text": [
      "Wx: px - (d6 + l)*cos(pitch)*cos(yaw)\n",
      "Wy: py - (d6 + l)*sin(yaw)*cos(pitch)\n",
      "Wz: pz + (d6 + l)*sin(pitch)\n"
     ]
    }
   ],
   "source": [
    "# Inverse Position Specific Variables - KNOWN in ROS\n",
    "px, py, pz, roll, pitch, yaw = symbols('px py pz roll pitch yaw') # end effector position and orientation\n",
    "l = symbols('l') # end effector lengths\n",
    "\n",
    "# Correction Rotation Matrix that takes into account the change of co\n",
    "ordinates between the DH and URDF\n",
    "R_adj = rot_z(pi) * rot_y(-pi/2)\n",
    "\n",
    "# Resulting Rotation Matrix that express the relation between the base_link and the gripper_link\n",
    "Rrpy = rot_z(yaw) * rot_y(pitch) * rot_x(roll) * R_adj\n",
    "\n",
    "# Position of the Wirst Center\n",
    "Wx = px - (d6 + l) * Rrpy[0, 2]\n",
    "Wy = py - (d6 + l) * Rrpy[1, 2]\n",
    "Wz = pz - (d6 + l) * Rrpy[2, 2]\n",
    "\n",
    "print('Wx: {}'.format(Wx))\n",
    "print('Wy: {}'.format(Wy))\n",
    "print('Wz: {}'.format(Wz))"
   ]
  },
  {
   "cell_type": "markdown",
   "metadata": {},
   "source": [
    "Based on the Position of the Wirst Center, calculate the first three joint angles q1, q2, q3\n",
    "\n",
    "![title](img/ikpp.jpg)\n",
    "\n",
    "Where in the last column, the first three rows are exactly the position of the Wirst Center"
   ]
  },
  {
   "cell_type": "code",
   "execution_count": 37,
   "metadata": {},
   "outputs": [],
   "source": [
    "# First Joint Angle - 2 Possibile Configurations\n",
    "q1_1 = atan2(Wy, Wx) + pi\n",
    "q1_2 = atan2(Wy, Wx) - pi\n",
    "\n",
    "\n",
    "# Third Joint Angle - 2 Possibile Configurations\n",
    "c3 = Wx**2 + Wy**2 + Wz**2 - a2**2 - a3**2\n",
    "s3 = sqrt(1-(c3**2))\n",
    "\n",
    "q3_1 = atan2(s3, c3)\n",
    "q3_2 = atan2(-s3, c3)\n",
    "\n",
    "\n",
    "# Second Joint Angle - 4 Possible Configurations\n",
    "c2_1 = (sqrt(Wx**2 + Wy**2)*(a2+a3*c3) + Wz*a3*s3)/(a2**2 + a3**2 + 2*a2*a3*c3)\n",
    "c2_2 = (-sqrt(Wx**2 + Wy**2)*(a2+a3*c3) + Wz*a3*s3)/(a2**2 + a3**2 + 2*a2*a3*c3)\n",
    "c2_3 = (sqrt(Wx**2 + Wy**2)*(a2+a3*c3) - Wz*a3*s3)/(a2**2 + a3**2 + 2*a2*a3*c3)\n",
    "c2_4 = (-sqrt(Wx**2 + Wy**2)*(a2+a3*c3) - Wz*a3*s3)/(a2**2 + a3**2 + 2*a2*a3*c3)\n",
    "s2_1 = (Wz*(a2 + a3*c3) - sqrt(Wx**2 + Wy**2)*a3*s3)/(a2**2 + a3**2 + 2*a2*a3*c3)\n",
    "s2_2 = (Wz*(a2 + a3*c3) + sqrt(Wx**2 + Wy**2)*a3*s3)/(a2**2 + a3**2 + 2*a2*a3*c3)\n",
    "\n",
    "q2_1 = atan2(s2_1, c2_1)\n",
    "q2_2 = atan2(s2_2, c2_2) \n",
    "q2_3 = atan2(s2_2, c2_3)\n",
    "q2_4 = atan2(s2_1, c2_4)"
   ]
  },
  {
   "cell_type": "markdown",
   "metadata": {},
   "source": [
    "### Inverse Orientation Problem\n",
    "Then solve the inverse orientation problem that is calculate the last three joint angles that brings the gripper in the desired orientation.\n",
    "\n",
    "From the Forward Kinematic extract the rotation matrix that links **base_link** to **gripper_link** and then extract the only rotation component of the last three joints"
   ]
  },
  {
   "cell_type": "code",
   "execution_count": 39,
   "metadata": {},
   "outputs": [],
   "source": [
    "# Orientation from the base_link to the gripper_link\n",
    "# base_link to link_1\n",
    "R0_1 = Matrix([[            cos(q1),              -sin(q1),                0],\n",
    "               [sin(q1)*cos(alpha0),    cos(q1)*cos(alpha0),    -sin(alpha0)],\n",
    "               [sin(q1)*sin(alpha0),    cos(q1)*sin(alpha0),     cos(alpha0)]])\n",
    "\n",
    "# link_1 to link_2\n",
    "R1_2 = Matrix([[            cos(q2),              -sin(q2),                0],\n",
    "               [sin(q2)*cos(alpha1),    cos(q2)*cos(alpha1),    -sin(alpha1)],\n",
    "               [sin(q2)*sin(alpha1),    cos(q2)*sin(alpha1),     cos(alpha1)]])\n",
    "\n",
    "# link_2 to link_3\n",
    "R2_3 = Matrix([[            cos(q3),              -sin(q3),                0],\n",
    "               [sin(q3)*cos(alpha2),    cos(q3)*cos(alpha2),    -sin(alpha2)],\n",
    "               [sin(q3)*sin(alpha2),    cos(q3)*sin(alpha2),     cos(alpha2)]])\n",
    "\n",
    "# link_3 to link_4\n",
    "R3_4 = Matrix([[            cos(q4),              -sin(q4),                0],\n",
    "               [sin(q4)*cos(alpha3),    cos(q4)*cos(alpha3),    -sin(alpha3)],\n",
    "               [sin(q4)*sin(alpha3),    cos(q4)*sin(alpha3),     cos(alpha3)]])\n",
    "\n",
    "# link_4 to link_5\n",
    "R4_5 = Matrix([[            cos(q5),              -sin(q5),                0],\n",
    "               [sin(q5)*cos(alpha4),    cos(q5)*cos(alpha4),    -sin(alpha4)],\n",
    "               [sin(q5)*sin(alpha4),    cos(q5)*sin(alpha4),     cos(alpha4)]])\n",
    "\n",
    "# link_5 to link_6\n",
    "R5_6 = Matrix([[            cos(q6),              -sin(q6),                0],\n",
    "               [sin(q6)*cos(alpha5),    cos(q6)*cos(alpha5),    -sin(alpha5)],\n",
    "               [sin(q6)*sin(alpha5),    cos(q6)*sin(alpha5),     cos(alpha5)]])\n",
    "\n",
    "\n",
    "R0_3 = R0_1 * R1_2 * R2_3\n",
    "R0_6 = R0_3 * R3_4 * R4_5 * R5_6\n",
    "\n",
    "R3_6 = R0_3.inv(method=\"LU\") * Rrpy"
   ]
  },
  {
   "cell_type": "markdown",
   "metadata": {},
   "source": [
    "Extract the last three joint angles values"
   ]
  },
  {
   "cell_type": "code",
   "execution_count": 42,
   "metadata": {},
   "outputs": [],
   "source": [
    "q4 = atan2(R3_6[1, 2], R3_6[0, 2])\n",
    "q5 = atan2(sqrt(R3_6[0, 2]**2 + R3_6[1, 2]**2), R3_6[2,2])\n",
    "q6 = atan2(-R3_6[2, 1], R3_6[2, 0])"
   ]
  }
 ],
 "metadata": {
  "kernelspec": {
   "display_name": "Python 3",
   "language": "python",
   "name": "python3"
  },
  "language_info": {
   "codemirror_mode": {
    "name": "ipython",
    "version": 3
   },
   "file_extension": ".py",
   "mimetype": "text/x-python",
   "name": "python",
   "nbconvert_exporter": "python",
   "pygments_lexer": "ipython3",
   "version": "3.8.5"
  }
 },
 "nbformat": 4,
 "nbformat_minor": 4
}
