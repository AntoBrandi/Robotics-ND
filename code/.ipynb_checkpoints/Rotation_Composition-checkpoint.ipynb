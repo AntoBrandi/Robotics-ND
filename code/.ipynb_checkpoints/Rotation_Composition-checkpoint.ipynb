{
 "cells": [
  {
   "cell_type": "markdown",
   "metadata": {},
   "source": [
    "### Composition of Rotations\n",
    "First Composition: Intrinsic rotation sequence about the Y and the Z axis\n",
    "\n",
    "Second Composition: Extrinsic rotation sequence about the Z and the Y axis"
   ]
  },
  {
   "cell_type": "code",
   "execution_count": 2,
   "metadata": {},
   "outputs": [],
   "source": [
    "from sympy import symbols, cos, sin, pi, sqrt\n",
    "from sympy.matrices import Matrix\n",
    "import numpy as np\n",
    "\n",
    "# Conversion Factors\n",
    "rtd = 180./np.pi # radians to degrees\n",
    "dtr = np.pi/180. # degrees to radians"
   ]
  },
  {
   "cell_type": "code",
   "execution_count": 3,
   "metadata": {},
   "outputs": [],
   "source": [
    "### Create symbols for joint variables\n",
    "q1, q2 = symbols('q1:3')\n",
    "\n",
    "# Create a symbolic matrix representing an intrinsic sequence of rotations \n",
    "# about the Y and then Z axes. Let the rotation about the Y axis be described\n",
    "# by q1 and the rotation about Z by q2. \n",
    "\n",
    "# elemetary rotation about the y axis\n",
    "R_y = Matrix([[ cos(q1),        0,  sin(q1)],\n",
    "              [       0,        1,        0],\n",
    "              [-sin(q1),        0,  cos(q1)]])\n",
    "\n",
    "# elementary rotation about the z axis\n",
    "R_z = Matrix([[ cos(q2), -sin(q2),        0],\n",
    "              [ sin(q2),  cos(q2),        0],\n",
    "              [ 0,              0,        1]])\n",
    "\n",
    "# Intrinsic Rotation Composition by post multiplying the rotations\n",
    "YZ_intrinsic_sym = R_y*R_z"
   ]
  },
  {
   "cell_type": "code",
   "execution_count": 4,
   "metadata": {},
   "outputs": [
    {
     "name": "stdout",
     "output_type": "stream",
     "text": [
      "Rotation about the Y-axis by 45-degrees\n",
      "Matrix([[0.707106781186548, 0, 0.707106781186547], [0, 1.00000000000000, 0], [-0.707106781186547, 0, 0.707106781186548]])\n",
      "Rotation about the Z-axis by 60-degrees\n",
      "Matrix([[0.500000000000000, -0.866025403784439, 0], [0.866025403784439, 0.500000000000000, 0], [0, 0, 1.00000000000000]])\n",
      "Intrinsic Rotation Composition \n",
      "Matrix([[cos(q1)*cos(q2), -sin(q2)*cos(q1), sin(q1)], [sin(q2), cos(q2), 0], [-sin(q1)*cos(q2), sin(q1)*sin(q2), cos(q1)]])\n",
      "Matrix([[0.353553390593274, -0.612372435695794, 0.707106781186547], [0.866025403784439, 0.500000000000000, 0], [-0.353553390593274, 0.612372435695794, 0.707106781186548]])\n"
     ]
    }
   ],
   "source": [
    "# Numerically evaluate YZ_intrinsic assuming:\n",
    "# q1 = 45 degrees and q2 = 60 degrees. \n",
    "# NOTE: Trigonometric functions in Python assume the input is in radians!\n",
    "print(\"Rotation about the Y-axis by 45-degrees\")\n",
    "print(R_y.evalf(subs={q1: 45*dtr}))\n",
    "print(\"Rotation about the Z-axis by 60-degrees\")\n",
    "print(R_z.evalf(subs={q2: 60*dtr}))\n",
    "print(\"Intrinsic Rotation Composition \")\n",
    "print(YZ_intrinsic_sym)\n",
    "print(YZ_intrinsic_sym.evalf(subs={q1: 45*dtr, q2: 60*dtr}))"
   ]
  },
  {
   "cell_type": "code",
   "execution_count": 5,
   "metadata": {},
   "outputs": [],
   "source": [
    "### Create symbols for joint variables\n",
    "q1, q2 = symbols('q1:3')\n",
    "\n",
    "# Create a symbolic matrix representing an extrinsic sequence of rotations \n",
    "# about the Z and then Y axes. Let the rotation about the Y axis be described\n",
    "# by q1 and the rotation about Z by q2. \n",
    "\n",
    "# elemetary rotation about the y axis\n",
    "R_y = Matrix([[ cos(q1),        0,  sin(q1)],\n",
    "              [       0,        1,        0],\n",
    "              [-sin(q1),        0,  cos(q1)]])\n",
    "\n",
    "# elementary rotation about the z axis\n",
    "R_z = Matrix([[ cos(q2), -sin(q2),        0],\n",
    "              [ sin(q2),  cos(q2),        0],\n",
    "              [ 0,              0,        1]])\n",
    "\n",
    "# Extrinsic Rotation Composition by post multiplying the rotations\n",
    "ZY_extrinsic_sym = R_z*R_y"
   ]
  },
  {
   "cell_type": "code",
   "execution_count": 6,
   "metadata": {},
   "outputs": [
    {
     "name": "stdout",
     "output_type": "stream",
     "text": [
      "Rotation about the Y-axis by 45-degrees\n",
      "Matrix([[0.707106781186548, 0, 0.707106781186547], [0, 1.00000000000000, 0], [-0.707106781186547, 0, 0.707106781186548]])\n",
      "Rotation about the Z-axis by 60-degrees\n",
      "Matrix([[0.500000000000000, -0.866025403784439, 0], [0.866025403784439, 0.500000000000000, 0], [0, 0, 1.00000000000000]])\n",
      "Intrinsic Rotation Composition \n",
      "Matrix([[cos(q1)*cos(q2), -sin(q2), sin(q1)*cos(q2)], [sin(q2)*cos(q1), cos(q2), sin(q1)*sin(q2)], [-sin(q1), 0, cos(q1)]])\n",
      "Matrix([[0.353553390593274, -0.866025403784439, 0.353553390593274], [0.612372435695794, 0.500000000000000, 0.612372435695794], [-0.707106781186547, 0, 0.707106781186548]])\n"
     ]
    }
   ],
   "source": [
    "# Numerically evaluate YZ_intrinsic assuming:\n",
    "# q1 = 45 degrees and q2 = 60 degrees. \n",
    "# NOTE: Trigonometric functions in Python assume the input is in radians!\n",
    "print(\"Rotation about the Y-axis by 45-degrees\")\n",
    "print(R_y.evalf(subs={q1: 45*dtr}))\n",
    "print(\"Rotation about the Z-axis by 60-degrees\")\n",
    "print(R_z.evalf(subs={q2: 60*dtr}))\n",
    "print(\"Intrinsic Rotation Composition \")\n",
    "print(ZY_extrinsic_sym)\n",
    "print(ZY_extrinsic_sym.evalf(subs={q1: 45*dtr, q2: 60*dtr}))"
   ]
  }
 ],
 "metadata": {
  "kernelspec": {
   "display_name": "Python 3",
   "language": "python",
   "name": "python3"
  },
  "language_info": {
   "codemirror_mode": {
    "name": "ipython",
    "version": 3
   },
   "file_extension": ".py",
   "mimetype": "text/x-python",
   "name": "python",
   "nbconvert_exporter": "python",
   "pygments_lexer": "ipython3",
   "version": "3.8.5"
  }
 },
 "nbformat": 4,
 "nbformat_minor": 4
}
